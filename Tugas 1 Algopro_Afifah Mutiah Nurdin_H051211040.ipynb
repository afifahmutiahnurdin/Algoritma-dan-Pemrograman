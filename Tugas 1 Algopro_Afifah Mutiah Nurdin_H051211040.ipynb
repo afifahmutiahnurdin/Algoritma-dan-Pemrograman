{
  "nbformat": 4,
  "nbformat_minor": 0,
  "metadata": {
    "colab": {
      "name": "Tugas 1.ipynb",
      "provenance": [],
      "collapsed_sections": [],
      "authorship_tag": "ABX9TyPwOQUEyCNhqekouAeabkse",
      "include_colab_link": true
    },
    "kernelspec": {
      "name": "python3",
      "display_name": "Python 3"
    },
    "language_info": {
      "name": "python"
    }
  },
  "cells": [
    {
      "cell_type": "markdown",
      "metadata": {
        "id": "view-in-github",
        "colab_type": "text"
      },
      "source": [
        "<a href=\"https://colab.research.google.com/github/afifahmutiahnurdin/Algoritma-dan-Pemrograman/blob/main/Tugas%201%20Algopro_Afifah%20Mutiah%20Nurdin_H051211040.ipynb\" target=\"_parent\"><img src=\"https://colab.research.google.com/assets/colab-badge.svg\" alt=\"Open In Colab\"/></a>"
      ]
    },
    {
      "cell_type": "markdown",
      "source": [
        "NAMA : AFIFAH MUTIAH NURDIN\n",
        "\n",
        "NIM  : H051211040"
      ],
      "metadata": {
        "id": "fRYImDNfD4gj"
      }
    },
    {
      "cell_type": "markdown",
      "source": [
        "TUGAS LATIHAN"
      ],
      "metadata": {
        "id": "EmgLY9OLEGdh"
      }
    },
    {
      "cell_type": "markdown",
      "source": [
        "Nomor 1\n",
        "\n",
        "Buatlah program untuk menghitung total pembelian N buah barang dengan harga dan jumlah tertentu"
      ],
      "metadata": {
        "id": "ox_Qgp_uEQmm"
      }
    },
    {
      "cell_type": "code",
      "source": [
        "banyakbrg = int(input('Banyak Barang : '))\n",
        "summ = 0\n",
        "for i in range (banyakbrg) :\n",
        "  print ('Barang ke-', i+1)\n",
        "  x = str(input('Input Nama Barang : '))\n",
        "  x1 = int(input('Input Harga Satuan Barang : Rp. '))\n",
        "  x2 = int(input('Input Jumlah Barang yang dibeli : '))\n",
        "  totalpembelian = x1*x2\n",
        "  print('Total Pembelian Barang : Rp.', totalpembelian)\n",
        "  summ = summ + totalpembelian\n",
        "print('Total Pembelian Semua Barang : Rp. ', summ)"
      ],
      "metadata": {
        "colab": {
          "base_uri": "https://localhost:8080/"
        },
        "id": "STgFmHT-1_px",
        "outputId": "b6244e50-1978-411b-cd34-1613880e3ac1"
      },
      "execution_count": null,
      "outputs": [
        {
          "output_type": "stream",
          "name": "stdout",
          "text": [
            "Banyak Barang : 2\n",
            "Barang ke- 1\n",
            "Input Nama Barang : a\n",
            "Input Harga Satuan Barang : Rp. 1000\n",
            "Input Jumlah Barang yang dibeli : 2\n",
            "Total Pembelian Barang : Rp. 2000\n",
            "Barang ke- 2\n",
            "Input Nama Barang : b\n",
            "Input Harga Satuan Barang : Rp. 2000\n",
            "Input Jumlah Barang yang dibeli : 3\n",
            "Total Pembelian Barang : Rp. 6000\n",
            "Total Pembelian Semua Barang : Rp.  8000\n"
          ]
        }
      ]
    },
    {
      "cell_type": "markdown",
      "source": [
        "Nomor 2\n",
        "\n",
        "Buatlah program untuk menghitung banyaknya bilangan genap ataupun bilangan ganjil dari N buah bilangan yang diinput secara acak"
      ],
      "metadata": {
        "id": "cZ7RsCXDEnik"
      }
    },
    {
      "cell_type": "code",
      "source": [
        "nilaiawal = int(input('Input Nilai Awal : '))\n",
        "nilaiakhir = int(input('Input Nilai Akhir : '))\n",
        "countgenap = 0\n",
        "countganjil = 0\n",
        "for i in range (nilaiawal,nilaiakhir+1) :\n",
        "    if i%2==0:\n",
        "        print(i,'adalah bilangan genap')\n",
        "        countgenap = countgenap+1\n",
        "    else:\n",
        "        print(i,'adalah bilangan ganjil')\n",
        "        countganjil = countganjil+1\n",
        "print ('Jumlah bilangan genap yaitu %d bilangan' %countgenap)\n",
        "print ('Jumlah bilangan ganjil yaitu %d bilangan' %countganjil)"
      ],
      "metadata": {
        "id": "nSZXv6oAlTPw",
        "colab": {
          "base_uri": "https://localhost:8080/"
        },
        "outputId": "f725af1a-3e4b-4774-c92b-489536a38e50"
      },
      "execution_count": null,
      "outputs": [
        {
          "output_type": "stream",
          "name": "stdout",
          "text": [
            "Input Nilai Awal : 1\n",
            "Input Nilai Akhir : 10\n",
            "1 adalah bilangan ganjil\n",
            "2 adalah bilangan genap\n",
            "3 adalah bilangan ganjil\n",
            "4 adalah bilangan genap\n",
            "5 adalah bilangan ganjil\n",
            "6 adalah bilangan genap\n",
            "7 adalah bilangan ganjil\n",
            "8 adalah bilangan genap\n",
            "9 adalah bilangan ganjil\n",
            "10 adalah bilangan genap\n",
            "Jumlah bilangan genap yaitu 5 bilangan\n",
            "Jumlah bilangan ganjil yaitu 5 bilangan\n"
          ]
        }
      ]
    },
    {
      "cell_type": "markdown",
      "source": [
        "Nomor 3\n",
        "\n",
        "Buatlah program untuk menampilkan bilangan kelipatan 3 diantara bilangan tertentu"
      ],
      "metadata": {
        "id": "PVZ7ZIMGE2ku"
      }
    },
    {
      "cell_type": "code",
      "source": [
        "nilaiawal = int(input('Input Nilai Awal : '))\n",
        "nilaiakhir = int(input('Input Nilai Akhir : '))\n",
        "for i in range (nilaiawal,nilaiakhir+1) :\n",
        "    if i%3==0:\n",
        "        print(i,'adalah Nilai Kelipatan 3')\n",
        "    else:\n",
        "        print(i,'Bukan Nilai Kelipatan 3')"
      ],
      "metadata": {
        "colab": {
          "base_uri": "https://localhost:8080/"
        },
        "id": "bwC9L-9Za_pV",
        "outputId": "0fb81b7e-5a41-4f27-efd4-e6fdba7a90b1"
      },
      "execution_count": null,
      "outputs": [
        {
          "output_type": "stream",
          "name": "stdout",
          "text": [
            "Input Nilai Awal : 1\n",
            "Input Nilai Akhir : 20\n",
            "1 Bukan Nilai Kelipatan 3\n",
            "2 Bukan Nilai Kelipatan 3\n",
            "3 adalah Nilai Kelipatan 3\n",
            "4 Bukan Nilai Kelipatan 3\n",
            "5 Bukan Nilai Kelipatan 3\n",
            "6 adalah Nilai Kelipatan 3\n",
            "7 Bukan Nilai Kelipatan 3\n",
            "8 Bukan Nilai Kelipatan 3\n",
            "9 adalah Nilai Kelipatan 3\n",
            "10 Bukan Nilai Kelipatan 3\n",
            "11 Bukan Nilai Kelipatan 3\n",
            "12 adalah Nilai Kelipatan 3\n",
            "13 Bukan Nilai Kelipatan 3\n",
            "14 Bukan Nilai Kelipatan 3\n",
            "15 adalah Nilai Kelipatan 3\n",
            "16 Bukan Nilai Kelipatan 3\n",
            "17 Bukan Nilai Kelipatan 3\n",
            "18 adalah Nilai Kelipatan 3\n",
            "19 Bukan Nilai Kelipatan 3\n",
            "20 Bukan Nilai Kelipatan 3\n"
          ]
        }
      ]
    },
    {
      "cell_type": "markdown",
      "source": [
        "Nomor 4\n",
        "\n",
        "Buatlah program untuk menampilkan bentuk bilangan seperti berikut ini:\n",
        "\n",
        "Bilangan:<input suati bilangan(misal:5)>\n",
        "\n",
        "1\n",
        "\n",
        "12\n",
        "\n",
        "123\n",
        "\n",
        "1234\n",
        "\n",
        "12345"
      ],
      "metadata": {
        "id": "wcFZ2DFXE_dT"
      }
    },
    {
      "cell_type": "code",
      "source": [
        "a = int(input('input suatu bilangan : '))\n",
        "for i in range(1, (a+1)) :\n",
        "  for j in range(1, (i+1)) :\n",
        "    print(j, end=' ')\n",
        "  print()"
      ],
      "metadata": {
        "colab": {
          "base_uri": "https://localhost:8080/"
        },
        "id": "2nYM6U3wF0lJ",
        "outputId": "57eb761c-333c-4d7e-9464-3338a1f66784"
      },
      "execution_count": null,
      "outputs": [
        {
          "output_type": "stream",
          "name": "stdout",
          "text": [
            "Input Bilangan : 5\n",
            "1 \n",
            "1 2 \n",
            "1 2 3 \n",
            "1 2 3 4 \n",
            "1 2 3 4 5 \n"
          ]
        }
      ]
    },
    {
      "cell_type": "markdown",
      "source": [
        "Nomor 5\n",
        "\n",
        "Buatlah program untuk menghitung dan menampilkan bentuk berikut ini:\n",
        "\n",
        "-------------------------------------------------------------\n",
        "\n",
        "No.  Nama Mhs   N.Tugas   N.Kuis   N.UTS   N.UAS   NilaiAkhir\n",
        "\n",
        "-------------------------------------------------------------\n",
        "\n",
        "1 \n",
        "\n",
        "2\n",
        "\n",
        "\n",
        "..\n",
        "\n",
        "N\n",
        "\n"
      ],
      "metadata": {
        "id": "ozA2sF-2GjZ8"
      }
    },
    {
      "cell_type": "code",
      "source": [
        "No = []\n",
        "NamaMhs = []\n",
        "NilaiTugas = []\n",
        "NilaiKuis = []\n",
        "NilaiUTS = []\n",
        "NilaiUAS = []\n",
        "NilaiAkhir = []\n",
        "\n",
        "ulang = int(input('Jumlah Mahasiswa : '))\n",
        "for i in range(ulang) :\n",
        "  print ()\n",
        "  print('Data Ke - ', str(i+1))\n",
        "  NamaMhs.append(input('Input Nama Mahasiswa \\t : '))\n",
        "  NilaiTugas.append(int(input('Input Nilai Tugas \\t : ')))\n",
        "  NilaiKuis.append(int(input('Input Nilai Kuis \\t : ')))\n",
        "  NilaiUTS.append(int(input('Input Nilai UTS \\t : ')))\n",
        "  NilaiUAS.append(int(input('Input Nilai UAS \\t : ')))\n",
        "  print()\n",
        "\n",
        "#Perhitungan\n",
        "for i in range(ulang) :\n",
        "  No.append(str(i+1))\n",
        "  NilaiAkhir.append((((NilaiTugas[i])+(NilaiKuis[i])+(NilaiUTS[i])+(NilaiUAS[i]))/4))\n",
        "\n",
        "#Tabel\n",
        "print()\n",
        "print('-'*75)\n",
        "print('No. \\t Nama Mhs \\t\\t N.Tugas N.Kuis N.UTS \\t N.UAS \\t NilaiAkhir')\n",
        "print('-'*75)\n",
        "for i in range(ulang) :\n",
        "  print(No[i], '\\t', NamaMhs[i], '\\t\\t\\t', NilaiTugas[i], '\\t', NilaiKuis[i], '\\t', NilaiUTS[i], '\\t', NilaiUAS[i], '\\t', NilaiAkhir[i])"
      ],
      "metadata": {
        "id": "xfbYPWEEGmf8",
        "colab": {
          "base_uri": "https://localhost:8080/"
        },
        "outputId": "c35316e3-8f54-4255-c625-4594d1264ee3"
      },
      "execution_count": null,
      "outputs": [
        {
          "output_type": "stream",
          "name": "stdout",
          "text": [
            "Jumlah Mahasiswa : 3\n",
            "\n",
            "Data Ke -  1\n",
            "Input Nama Mahasiswa \t : a\n",
            "Input Nilai Tugas \t : 80\n",
            "Input Nilai Kuis \t : 75\n",
            "Input Nilai UTS \t : 90\n",
            "Input Nilai UAS \t : 98\n",
            "\n",
            "\n",
            "Data Ke -  2\n",
            "Input Nama Mahasiswa \t : b\n",
            "Input Nilai Tugas \t : 90\n",
            "Input Nilai Kuis \t : 100\n",
            "Input Nilai UTS \t : 89\n",
            "Input Nilai UAS \t : 100\n",
            "\n",
            "\n",
            "Data Ke -  3\n",
            "Input Nama Mahasiswa \t : c\n",
            "Input Nilai Tugas \t : 100\n",
            "Input Nilai Kuis \t : 75\n",
            "Input Nilai UTS \t : 99\n",
            "Input Nilai UAS \t : 100\n",
            "\n",
            "\n",
            "---------------------------------------------------------------------------\n",
            "No. \t Nama Mhs \t\t N.Tugas N.Kuis N.UTS \t N.UAS \t NilaiAkhir\n",
            "---------------------------------------------------------------------------\n",
            "1 \t a \t\t\t 80 \t 75 \t 90 \t 98 \t 85.75\n",
            "2 \t b \t\t\t 90 \t 100 \t 89 \t 100 \t 94.75\n",
            "3 \t c \t\t\t 100 \t 75 \t 99 \t 100 \t 93.5\n"
          ]
        }
      ]
    },
    {
      "cell_type": "markdown",
      "source": [
        "Tugas Penjumlahan 2 Buah Matriks Berordo 2x2"
      ],
      "metadata": {
        "id": "twZam-PNGnUP"
      }
    },
    {
      "cell_type": "code",
      "source": [
        "matriks1 = [[],[]]\n",
        "matriks2 = [[],[]]\n",
        "matriks3 = [[],[]]\n",
        "ordo = 2\n",
        "\n",
        "for b in range(0,ordo) :\n",
        "  for k in range(0,ordo) :\n",
        "    item = int(input('item matriks 1 ke-(): '. format(k)))\n",
        "    matriks1[b].insert(k,item)\n",
        "print('matriks1: ', matriks1)\n",
        "\n",
        "for b in range(0,ordo) :\n",
        "  for k in range(0,ordo) :\n",
        "    item = int(input('item matriks 2 ke-(): '. format(k)))\n",
        "    matriks2[b].insert(k,item)\n",
        "print('matriks2: ', matriks2)\n",
        "\n",
        "for b in range(0, len(matriks1)) :\n",
        "  for k in range(0, len(matriks1[b])) :\n",
        "    penjumlahan = matriks1[b][k]+matriks2[b][k]\n",
        "    matriks3[b].insert(k,penjumlahan)\n",
        "\n",
        "print(matriks3)"
      ],
      "metadata": {
        "colab": {
          "base_uri": "https://localhost:8080/"
        },
        "id": "O0LO6kPT0KJW",
        "outputId": "9cfc566d-dc21-4bb8-dfec-c01544330da5"
      },
      "execution_count": null,
      "outputs": [
        {
          "output_type": "stream",
          "name": "stdout",
          "text": [
            "item matriks 1 ke-(): 1\n",
            "item matriks 1 ke-(): 2\n",
            "item matriks 1 ke-(): 1\n",
            "item matriks 1 ke-(): 2\n",
            "matriks1:  [[1, 2], [1, 2]]\n",
            "item matriks 2 ke-(): 2\n",
            "item matriks 2 ke-(): 2\n",
            "item matriks 2 ke-(): 3\n",
            "item matriks 2 ke-(): 3\n",
            "matriks2:  [[2, 2], [3, 3]]\n",
            "[[3, 4], [4, 5]]\n"
          ]
        }
      ]
    }
  ]
}